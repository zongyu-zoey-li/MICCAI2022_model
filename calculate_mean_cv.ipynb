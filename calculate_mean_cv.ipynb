{
 "cells": [
  {
   "cell_type": "code",
   "execution_count": 1,
   "metadata": {},
   "outputs": [],
   "source": [
    "import pandas as pd\n",
    "path = './JIGSAWS/tcn/test_1/log/train_test_result.csv'\n",
    "tb=pd.read_csv(path)"
   ]
  },
  {
   "cell_type": "code",
   "execution_count": 10,
   "metadata": {},
   "outputs": [
    {
     "data": {
      "text/plain": [
       "Index(['Unnamed: 0', 't_accuracy', 't_edit_score', 't_loss', 't_f_scores_10',\n",
       "       't_f_scores_25', 't_f_scores_50', 't_f_scores_75', 'v_accuracy',\n",
       "       'v_edit_score', 'v_loss', 'v_f_scores_10', 'v_f_scores_25',\n",
       "       'v_f_scores_50', 'v_f_scores_75'],\n",
       "      dtype='object')"
      ]
     },
     "execution_count": 10,
     "metadata": {},
     "output_type": "execute_result"
    }
   ],
   "source": [
    "tb.columns"
   ]
  },
  {
   "cell_type": "code",
   "execution_count": 25,
   "metadata": {},
   "outputs": [],
   "source": [
    "result = []\n",
    "\n",
    "for i in range(1,6):\n",
    "    path = './JIGSAWS/tcn/test_{}/log/train_test_result.csv'.format(i)\n",
    "    tb=pd.read_csv(path)\n",
    "\n",
    "    vals = [tb['v_accuracy'].rolling(window=5).mean().iloc[-1],\n",
    "    tb['v_edit_score'].rolling(window=5).mean().iloc[-1],\n",
    "    tb['v_loss'].rolling(window=5).mean().iloc[-1],\n",
    "    tb['v_f_scores_10'].rolling(window=5).mean().iloc[-1],\n",
    "    tb['v_f_scores_25'].rolling(window=5).mean().iloc[-1],\n",
    "    tb['v_f_scores_50'].rolling(window=5).mean().iloc[-1],\n",
    "    tb['v_f_scores_75'].rolling(window=5).mean().iloc[-1],]\n",
    "    result.append(vals)\n"
   ]
  },
  {
   "cell_type": "code",
   "execution_count": 13,
   "metadata": {},
   "outputs": [],
   "source": [
    "import numpy as np\n",
    "result = np.array(result)"
   ]
  },
  {
   "cell_type": "code",
   "execution_count": 19,
   "metadata": {},
   "outputs": [
    {
     "data": {
      "text/plain": [
       "'tcn : v_accuracy: 80.19570106815196, v_edit_score: 82.32811846021923, v_loss: 0.8802109485826138, v_f_scores_10: 87.06536610377773, v_f_scores_25: 85.10153947726363, v_f_scores_50: 76.8655841273297, v_f_scores_75: 53.782988171395345'"
      ]
     },
     "execution_count": 19,
     "metadata": {},
     "output_type": "execute_result"
    }
   ],
   "source": [
    "'tcn : v_accuracy: {}, v_edit_score: {}, v_loss: {}, v_f_scores_10: {}, v_f_scores_25: {}, v_f_scores_50: {}, v_f_scores_75: {}'.format(np.mean(result,axis = 0)[0],\\\n",
    "   np.mean(result,axis = 0)[1],np.mean(result,axis = 0)[2],np.mean(result,axis = 0)[3],np.mean(result,axis = 0)[4],np.mean(result,axis = 0)[5],np.mean(result,axis = 0)[6])"
   ]
  },
  {
   "cell_type": "code",
   "execution_count": 26,
   "metadata": {},
   "outputs": [
    {
     "data": {
      "text/plain": [
       "'tcn : v_accuracy: 80 (2.57), v_edit_score: 82.33 (3.44), v_loss: 0.88 (0.21), v_f_scores_10: 87.07 (3.01), v_f_scores_25: 85.1 (3.17), v_f_scores_50: 76.87 (4.41), v_f_scores_75: 53.78 (4.06)'"
      ]
     },
     "execution_count": 26,
     "metadata": {},
     "output_type": "execute_result"
    }
   ],
   "source": [
    "'tcn : v_accuracy: {} ({}), v_edit_score: {} ({}), v_loss: {} ({}), v_f_scores_10: {} ({}), v_f_scores_25: {} ({}), v_f_scores_50: {} ({}), v_f_scores_75: {} ({})'.format(round(np.mean(result,axis = 0)[0]),\\\n",
    "   round(np.std(result,axis = 0)[0],2),\n",
    "   round(np.mean(result,axis = 0)[1],2), round(np.std(result,axis = 0)[1],2),round(np.mean(result,axis = 0)[2],2),round(np.std(result,axis = 0)[2],2),round(np.mean(result,axis = 0)[3],2)\\\n",
    "      ,round(np.std(result,axis = 0)[3],2),round(np.mean(result,axis = 0)[4],2),\\\n",
    "      round(np.std(result,axis = 0)[4],2),round(np.mean(result,axis = 0)[5],2),round(np.std(result,axis = 0)[5],2),\\\n",
    "         round(np.mean(result,axis = 0)[6],2),round(np.std(result,axis = 0)[6],2))"
   ]
  },
  {
   "cell_type": "code",
   "execution_count": 21,
   "metadata": {},
   "outputs": [],
   "source": [
    "result = []\n",
    "\n",
    "for i in range(1,6):\n",
    "    path = './JIGSAWS/lstm/test_{}/log/train_test_result.csv'.format(i)\n",
    "    tb=pd.read_csv(path)\n",
    "\n",
    "    vals = [tb['v_accuracy'].rolling(window=5).mean().iloc[-1],\n",
    "    tb['v_edit_score'].rolling(window=5).mean().iloc[-1],\n",
    "    tb['v_loss'].rolling(window=5).mean().iloc[-1],\n",
    "    tb['v_f_scores_10'].rolling(window=5).mean().iloc[-1],\n",
    "    tb['v_f_scores_25'].rolling(window=5).mean().iloc[-1],\n",
    "    tb['v_f_scores_50'].rolling(window=5).mean().iloc[-1],\n",
    "    tb['v_f_scores_75'].rolling(window=5).mean().iloc[-1],]\n",
    "    result.append(vals)\n"
   ]
  },
  {
   "cell_type": "code",
   "execution_count": 24,
   "metadata": {},
   "outputs": [
    {
     "data": {
      "text/plain": [
       "'lstm : v_accuracy: 70 (3.32), v_edit_score: 52.0 (4.35), v_loss: 1.12 (0.18), v_f_scores_10: 62.81 (4.19), v_f_scores_25: 59.39 (4.7), v_f_scores_50: 49.6 (5.14), v_f_scores_75: 33.99 (4.07)'"
      ]
     },
     "execution_count": 24,
     "metadata": {},
     "output_type": "execute_result"
    }
   ],
   "source": [
    "'lstm : v_accuracy: {} ({}), v_edit_score: {} ({}), v_loss: {} ({}), v_f_scores_10: {} ({}), v_f_scores_25: {} ({}), v_f_scores_50: {} ({}), v_f_scores_75: {} ({})'.format(round(np.mean(result,axis = 0)[0]),\\\n",
    "   round(np.std(result,axis = 0)[0],2),\n",
    "   round(np.mean(result,axis = 0)[1],2), round(np.std(result,axis = 0)[1],2),round(np.mean(result,axis = 0)[2],2),round(np.std(result,axis = 0)[2],2),round(np.mean(result,axis = 0)[3],2)\\\n",
    "      ,round(np.std(result,axis = 0)[3],2),round(np.mean(result,axis = 0)[4],2),\\\n",
    "      round(np.std(result,axis = 0)[4],2),round(np.mean(result,axis = 0)[5],2),round(np.std(result,axis = 0)[5],2),\\\n",
    "         round(np.mean(result,axis = 0)[6],2),round(np.std(result,axis = 0)[6],2))"
   ]
  },
  {
   "cell_type": "code",
   "execution_count": null,
   "metadata": {},
   "outputs": [],
   "source": [
    "'lstm : v_accuracy: {}, v_edit_score: {}, v_loss: {}, v_f_scores_10: {}, v_f_scores_25: {}, v_f_scores_50: {}, v_f_scores_75: {}'.format(,\\\n",
    ",,,,,)"
   ]
  }
 ],
 "metadata": {
  "interpreter": {
   "hash": "37dfa0f4d83a0059ada9202d77ffe504bfae4b199a52baeefcd209119822c379"
  },
  "kernelspec": {
   "display_name": "Python 3.8.12 64-bit ('MICCAI22ENV': conda)",
   "language": "python",
   "name": "python3"
  },
  "language_info": {
   "codemirror_mode": {
    "name": "ipython",
    "version": 3
   },
   "file_extension": ".py",
   "mimetype": "text/x-python",
   "name": "python",
   "nbconvert_exporter": "python",
   "pygments_lexer": "ipython3",
   "version": "3.8.12"
  },
  "orig_nbformat": 4
 },
 "nbformat": 4,
 "nbformat_minor": 2
}
